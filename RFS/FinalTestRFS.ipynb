{
 "cells": [
  {
   "cell_type": "code",
   "execution_count": 4,
   "id": "d97fff18",
   "metadata": {},
   "outputs": [],
   "source": [
    "import pandas as pd \n",
    "import seaborn as sns\n",
    "from scipy import stats \n",
    "import seaborn as sns \n",
    "import matplotlib.pyplot as plt\n",
    "from feature_engine.selection import DropCorrelatedFeatures\n",
    "from sklearn.model_selection import train_test_split\n",
    "from sklearn.linear_model import LinearRegression\n",
    "import numpy as np \n",
    "from sklearn.metrics import mean_absolute_error\n",
    "from sklearn.model_selection import cross_val_score, GridSearchCV , KFold\n",
    "from sklearn.preprocessing import StandardScaler, MinMaxScaler\n",
    "from sklearn.decomposition import PCA\n",
    "from tensorflow.keras import Sequential\n",
    "from tensorflow.keras.layers import Dense, Dropout\n",
    "from tensorflow.keras.callbacks import EarlyStopping\n",
    "from tensorflow.keras.wrappers.scikit_learn import KerasRegressor \n",
    "import plotly.graph_objects as go\n",
    "from sklearn.impute import SimpleImputer, KNNImputer\n",
    "from sklearn.svm import SVR\n",
    "from sklearn.tree import DecisionTreeRegressor\n",
    "from sklearn.metrics import mean_absolute_error\n",
    "from sklearn.linear_model import BayesianRidge\n",
    "from numpy import arange\n",
    "from xgboost.sklearn import XGBRegressor\n",
    "import lightgbm as lgb\n",
    "import statsmodels.api as sm "
   ]
  },
  {
   "cell_type": "markdown",
   "id": "28e0ddcc",
   "metadata": {},
   "source": [
    "###### IMPORT DATA "
   ]
  },
  {
   "cell_type": "code",
   "execution_count": 5,
   "id": "43988b95",
   "metadata": {},
   "outputs": [],
   "source": [
    "df = pd.read_excel('trainDataset.xls')\n",
    "df = df.drop('ID', axis=1)\n",
    "df = df.drop('pCR (outcome)', axis = 1)"
   ]
  },
  {
   "cell_type": "markdown",
   "id": "5b1d1df3",
   "metadata": {},
   "source": [
    "## DATA PREPROCESSING"
   ]
  },
  {
   "cell_type": "markdown",
   "id": "2436ace7",
   "metadata": {},
   "source": [
    "###### imputing missing values with median "
   ]
  },
  {
   "cell_type": "code",
   "execution_count": 6,
   "id": "3f7aae3e",
   "metadata": {},
   "outputs": [],
   "source": [
    "imp = SimpleImputer(missing_values=999, strategy='median')\n",
    "# Fitting the data to the imputer object\n",
    "imputer = imp.fit(df)\n",
    "imputed_df = imputer.transform(df)\n",
    "imputed_df = pd.DataFrame(imputed_df, columns = df.columns)\n",
    "\n"
   ]
  },
  {
   "cell_type": "markdown",
   "id": "c59bcdcd",
   "metadata": {},
   "source": [
    "###### Train Test Split"
   ]
  },
  {
   "cell_type": "code",
   "execution_count": 7,
   "id": "9039832e",
   "metadata": {},
   "outputs": [],
   "source": [
    "rfs = imputed_df['RelapseFreeSurvival (outcome)']\n",
    "features = imputed_df.drop('RelapseFreeSurvival (outcome)', axis =1 )\n",
    "x_train, x_test, y_train, y_test = train_test_split(features,rfs, test_size = 0.1, random_state = 42)\n"
   ]
  },
  {
   "cell_type": "markdown",
   "id": "37bbc1e4",
   "metadata": {},
   "source": [
    "###### read test set data"
   ]
  },
  {
   "cell_type": "code",
   "execution_count": 8,
   "id": "3778ed2f",
   "metadata": {},
   "outputs": [],
   "source": [
    "test = pd.read_excel('testDatasetExample.xls')\n",
    "patient_ID  = test['ID']\n",
    "test_set = test.drop('ID', axis=1)"
   ]
  },
  {
   "cell_type": "markdown",
   "id": "6db2c485",
   "metadata": {},
   "source": [
    "###### feature normalisation"
   ]
  },
  {
   "cell_type": "code",
   "execution_count": 9,
   "id": "7f17be4b",
   "metadata": {},
   "outputs": [],
   "source": [
    "scaler = MinMaxScaler()\n",
    "scaled_x = scaler.fit_transform(x_train)\n",
    "scaled_train_x = pd.DataFrame(scaled_x)\n",
    "x_test = scaler.fit_transform(test_set)"
   ]
  },
  {
   "cell_type": "markdown",
   "id": "6f0e9c84",
   "metadata": {},
   "source": [
    "###### PCA\n"
   ]
  },
  {
   "cell_type": "code",
   "execution_count": 10,
   "id": "d442508c",
   "metadata": {},
   "outputs": [],
   "source": [
    "pca = PCA(n_components=11)\n",
    "PCA_fit = pca.fit(scaled_train_x)\n",
    "x_PCA = PCA_fit.transform(scaled_train_x)\n",
    "x_test =PCA_fit.transform(x_test)"
   ]
  },
  {
   "cell_type": "markdown",
   "id": "ac61d97f",
   "metadata": {},
   "source": [
    "### Fitting the model with best parameters"
   ]
  },
  {
   "cell_type": "markdown",
   "id": "d6eb4eb9",
   "metadata": {},
   "source": [
    "###### Bayesian Ridge Regression\n"
   ]
  },
  {
   "cell_type": "code",
   "execution_count": 11,
   "id": "aa6fd336",
   "metadata": {},
   "outputs": [
    {
     "data": {
      "text/plain": [
       "BayesianRidge(alpha_init=0.3, lambda_init=1e-09)"
      ]
     },
     "execution_count": 11,
     "metadata": {},
     "output_type": "execute_result"
    }
   ],
   "source": [
    "model = BayesianRidge(alpha_init = 0.3 , lambda_init = 1e-09)\n",
    "model.fit(x_PCA, y_train)\n",
    "pred = model.predict(x_test)"
   ]
  },
  {
   "cell_type": "markdown",
   "id": "692fb811",
   "metadata": {},
   "source": [
    "###### Put results in data frame "
   ]
  },
  {
   "cell_type": "code",
   "execution_count": 13,
   "id": "9bc633ab",
   "metadata": {},
   "outputs": [],
   "source": [
    "pred = pd.DataFrame(pred)\n",
    "ID = pd.DataFrame(patient_ID)\n",
    "pred_with_ID = pd.concat([ID, pred], axis = 1)\n",
    "# rename outcome column\n",
    "pred_with_ID.rename( columns = { 0:'RelapseFreeSurvival (outcome)'}, inplace=True )"
   ]
  },
  {
   "cell_type": "markdown",
   "id": "4ac7ac8b",
   "metadata": {},
   "source": [
    "###### output to csv file"
   ]
  },
  {
   "cell_type": "code",
   "execution_count": 14,
   "id": "f1beb4a4",
   "metadata": {},
   "outputs": [],
   "source": [
    "pred_with_ID.to_csv('RFSPrediction.xls')"
   ]
  }
 ],
 "metadata": {
  "kernelspec": {
   "display_name": "Python 3 (ipykernel)",
   "language": "python",
   "name": "python3"
  },
  "language_info": {
   "codemirror_mode": {
    "name": "ipython",
    "version": 3
   },
   "file_extension": ".py",
   "mimetype": "text/x-python",
   "name": "python",
   "nbconvert_exporter": "python",
   "pygments_lexer": "ipython3",
   "version": "3.7.13"
  }
 },
 "nbformat": 4,
 "nbformat_minor": 5
}
